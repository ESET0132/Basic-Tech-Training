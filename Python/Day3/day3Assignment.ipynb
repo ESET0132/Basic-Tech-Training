{
 "cells": [
  {
   "cell_type": "markdown",
   "id": "f661a94a",
   "metadata": {},
   "source": [
    "# Assignment Day3"
   ]
  },
  {
   "cell_type": "code",
   "execution_count": null,
   "id": "448321a6",
   "metadata": {},
   "outputs": [
    {
     "name": "stdout",
     "output_type": "stream",
     "text": [
      "Requirement already satisfied: numpy in c:\\users\\user\\appdata\\local\\programs\\python\\python313\\lib\\site-packages (2.3.2)\n"
     ]
    }
   ],
   "source": [
    "! pip install numpy "
   ]
  },
  {
   "cell_type": "code",
   "execution_count": 10,
   "id": "80a914e7",
   "metadata": {},
   "outputs": [],
   "source": [
    "import numpy as np"
   ]
  },
  {
   "cell_type": "markdown",
   "id": "70eaa88c",
   "metadata": {},
   "source": [
    "### create a 3x3 matrix with values ranging from 1 to 9"
   ]
  },
  {
   "cell_type": "code",
   "execution_count": 18,
   "id": "4613fe45",
   "metadata": {},
   "outputs": [],
   "source": [
    "matrix = np.array([[1, 2, 3], [4, 5, 6], [7, 8, 9]])"
   ]
  },
  {
   "cell_type": "code",
   "execution_count": 19,
   "id": "6635a2ee",
   "metadata": {},
   "outputs": [
    {
     "name": "stdout",
     "output_type": "stream",
     "text": [
      "[[1 2 3]\n",
      " [4 5 6]\n",
      " [7 8 9]]\n"
     ]
    }
   ],
   "source": [
    "print(matrix)"
   ]
  },
  {
   "cell_type": "markdown",
   "id": "b50960cf",
   "metadata": {},
   "source": [
    "## printing doubled matrix"
   ]
  },
  {
   "cell_type": "code",
   "execution_count": 20,
   "id": "11f39d5a",
   "metadata": {},
   "outputs": [
    {
     "name": "stdout",
     "output_type": "stream",
     "text": [
      "[[ 2  4  6]\n",
      " [ 8 10 12]\n",
      " [14 16 18]]\n"
     ]
    }
   ],
   "source": [
    "matrix_doubled = matrix * 2\n",
    "print(matrix_doubled)"
   ]
  },
  {
   "cell_type": "code",
   "execution_count": 21,
   "id": "77196337",
   "metadata": {},
   "outputs": [],
   "source": [
    "import pandas as pd"
   ]
  },
  {
   "cell_type": "markdown",
   "id": "3cd920f7",
   "metadata": {},
   "source": [
    "## Dictionary for Items"
   ]
  },
  {
   "cell_type": "code",
   "execution_count": 22,
   "id": "d575285f",
   "metadata": {},
   "outputs": [],
   "source": [
    "data = {\n",
    "    'product_name': ['Laptop', 'Mouse', 'Keyboard'],\n",
    "    'price': [1200, 25, 75],\n",
    "    'stock_quantity': [30, 150, 60]\n",
    "}"
   ]
  },
  {
   "cell_type": "code",
   "execution_count": 23,
   "id": "9b566ba2",
   "metadata": {},
   "outputs": [],
   "source": [
    "df = pd.DataFrame(data)"
   ]
  },
  {
   "cell_type": "markdown",
   "id": "b78aefb1",
   "metadata": {},
   "source": [
    "## Printing items having stock quantity > 50"
   ]
  },
  {
   "cell_type": "code",
   "execution_count": 25,
   "id": "bb4f9de2",
   "metadata": {},
   "outputs": [
    {
     "name": "stdout",
     "output_type": "stream",
     "text": [
      "  product_name  price  stock_quantity\n",
      "1        Mouse     25             150\n",
      "2     Keyboard     75              60\n"
     ]
    }
   ],
   "source": [
    "filtered_prod = df[df['stock_quantity'] > 50]\n",
    "print(filtered_prod)"
   ]
  }
 ],
 "metadata": {
  "kernelspec": {
   "display_name": "Python 3",
   "language": "python",
   "name": "python3"
  },
  "language_info": {
   "codemirror_mode": {
    "name": "ipython",
    "version": 3
   },
   "file_extension": ".py",
   "mimetype": "text/x-python",
   "name": "python",
   "nbconvert_exporter": "python",
   "pygments_lexer": "ipython3",
   "version": "3.13.7"
  }
 },
 "nbformat": 4,
 "nbformat_minor": 5
}
