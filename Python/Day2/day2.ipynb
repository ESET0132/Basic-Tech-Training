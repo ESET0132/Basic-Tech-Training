{
 "cells": [
  {
   "cell_type": "markdown",
   "id": "331a15c8",
   "metadata": {},
   "source": [
    "Function\n",
    "function definatiom"
   ]
  },
  {
   "cell_type": "code",
   "execution_count": 1,
   "id": "eea90bfe",
   "metadata": {},
   "outputs": [],
   "source": [
    "def student_info(name, age):\n",
    "    print(f\"Name: {name}, Age: {age}\")"
   ]
  },
  {
   "cell_type": "markdown",
   "id": "a42cba87",
   "metadata": {},
   "source": [
    "function calling"
   ]
  },
  {
   "cell_type": "code",
   "execution_count": 2,
   "id": "0cacfba4",
   "metadata": {},
   "outputs": [
    {
     "name": "stdout",
     "output_type": "stream",
     "text": [
      "Name: John, Age: 25\n",
      "Name: Alice, Age: 20\n"
     ]
    }
   ],
   "source": [
    "student_info(\"John\", 25)\n",
    "student_info(\"Alice\", 20)"
   ]
  }
 ],
 "metadata": {
  "kernelspec": {
   "display_name": "Python 3",
   "language": "python",
   "name": "python3"
  },
  "language_info": {
   "codemirror_mode": {
    "name": "ipython",
    "version": 3
   },
   "file_extension": ".py",
   "mimetype": "text/x-python",
   "name": "python",
   "nbconvert_exporter": "python",
   "pygments_lexer": "ipython3",
   "version": "3.13.7"
  }
 },
 "nbformat": 4,
 "nbformat_minor": 5
}
