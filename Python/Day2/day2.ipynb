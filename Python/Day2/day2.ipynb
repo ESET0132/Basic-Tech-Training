{
 "cells": [
  {
   "cell_type": "markdown",
   "id": "331a15c8",
   "metadata": {},
   "source": [
    "Function\n",
    "function definatiom"
   ]
  },
  {
   "cell_type": "code",
   "execution_count": 1,
   "id": "eea90bfe",
   "metadata": {},
   "outputs": [],
   "source": [
    "def student_info(name, age):\n",
    "    print(f\"Name: {name}, Age: {age}\")"
   ]
  },
  {
   "cell_type": "markdown",
   "id": "a42cba87",
   "metadata": {},
   "source": [
    "function calling"
   ]
  },
  {
   "cell_type": "code",
   "execution_count": 2,
   "id": "0cacfba4",
   "metadata": {},
   "outputs": [
    {
     "name": "stdout",
     "output_type": "stream",
     "text": [
      "Name: John, Age: 25\n",
      "Name: Alice, Age: 20\n"
     ]
    }
   ],
   "source": [
    "student_info(\"John\", 25)\n",
    "student_info(\"Alice\", 20)"
   ]
  },
  {
   "cell_type": "markdown",
   "id": "133b18fd",
   "metadata": {},
   "source": [
    "### NUMPY"
   ]
  },
  {
   "cell_type": "markdown",
   "id": "7a3329ef",
   "metadata": {},
   "source": [
    "#### Installing NumPy"
   ]
  },
  {
   "cell_type": "code",
   "execution_count": 4,
   "id": "8e32de9c",
   "metadata": {},
   "outputs": [
    {
     "name": "stdout",
     "output_type": "stream",
     "text": [
      "Requirement already satisfied: numpy in c:\\users\\user\\appdata\\local\\programs\\python\\python313\\lib\\site-packages (2.3.2)\n"
     ]
    }
   ],
   "source": [
    "! pip install numpy"
   ]
  },
  {
   "cell_type": "markdown",
   "id": "1d9bbe74",
   "metadata": {},
   "source": [
    "## Creating a 1D array"
   ]
  },
  {
   "cell_type": "code",
   "execution_count": 6,
   "id": "5e74b338",
   "metadata": {},
   "outputs": [
    {
     "name": "stderr",
     "output_type": "stream",
     "text": [
      "'x' is not recognized as an internal or external command,\n",
      "operable program or batch file.\n"
     ]
    }
   ],
   "source": [
    "! x = np.array([1, 2, 3, 4, 5])"
   ]
  },
  {
   "cell_type": "markdown",
   "id": "4615ea9f",
   "metadata": {},
   "source": [
    "## Creating a 2D array"
   ]
  },
  {
   "cell_type": "code",
   "execution_count": 7,
   "id": "39a59770",
   "metadata": {},
   "outputs": [
    {
     "name": "stderr",
     "output_type": "stream",
     "text": [
      "'y' is not recognized as an internal or external command,\n",
      "operable program or batch file.\n"
     ]
    }
   ],
   "source": [
    "! y = np.array([[1, 2, 3], [4, 5, 6]])"
   ]
  },
  {
   "cell_type": "markdown",
   "id": "01b14ec3",
   "metadata": {},
   "source": [
    "## Installing Pandas"
   ]
  },
  {
   "cell_type": "code",
   "execution_count": 8,
   "id": "55d44c34",
   "metadata": {},
   "outputs": [
    {
     "name": "stdout",
     "output_type": "stream",
     "text": [
      "Requirement already satisfied: pandas in c:\\users\\user\\appdata\\local\\programs\\python\\python313\\lib\\site-packages (2.3.2)\n",
      "Requirement already satisfied: numpy>=1.26.0 in c:\\users\\user\\appdata\\local\\programs\\python\\python313\\lib\\site-packages (from pandas) (2.3.2)\n",
      "Requirement already satisfied: python-dateutil>=2.8.2 in c:\\users\\user\\appdata\\local\\programs\\python\\python313\\lib\\site-packages (from pandas) (2.9.0.post0)\n",
      "Requirement already satisfied: pytz>=2020.1 in c:\\users\\user\\appdata\\local\\programs\\python\\python313\\lib\\site-packages (from pandas) (2025.2)\n",
      "Requirement already satisfied: tzdata>=2022.7 in c:\\users\\user\\appdata\\local\\programs\\python\\python313\\lib\\site-packages (from pandas) (2025.2)\n",
      "Requirement already satisfied: six>=1.5 in c:\\users\\user\\appdata\\local\\programs\\python\\python313\\lib\\site-packages (from python-dateutil>=2.8.2->pandas) (1.17.0)\n"
     ]
    }
   ],
   "source": [
    "! pip install pandas"
   ]
  },
  {
   "cell_type": "markdown",
   "id": "768449af",
   "metadata": {},
   "source": [
    "## importing pandas"
   ]
  },
  {
   "cell_type": "code",
   "execution_count": 9,
   "id": "2cf29dde",
   "metadata": {},
   "outputs": [
    {
     "name": "stderr",
     "output_type": "stream",
     "text": [
      "'import' is not recognized as an internal or external command,\n",
      "operable program or batch file.\n"
     ]
    }
   ],
   "source": [
    "! import pandas as pd"
   ]
  },
  {
   "cell_type": "code",
   "execution_count": 19,
   "id": "727b0a80",
   "metadata": {},
   "outputs": [
    {
     "name": "stdout",
     "output_type": "stream",
     "text": [
      "0    1\n",
      "1    3\n",
      "2    5\n",
      "3    7\n",
      "4    9\n",
      "dtype: int64\n",
      "<class 'pandas.core.series.Series'>\n"
     ]
    }
   ],
   "source": [
    "s = pd.Series([1, 3, 5, 7, 9])\n",
    "print(s)\n",
    "print(type(s))"
   ]
  },
  {
   "cell_type": "code",
   "execution_count": 18,
   "id": "b58343bf",
   "metadata": {},
   "outputs": [
    {
     "name": "stdout",
     "output_type": "stream",
     "text": [
      "    Name  Age         City  salary\n",
      "0   John   25     New York   70000\n",
      "1  Alice   30  Los Angeles   80000\n",
      "2    Bob   22      Chicago   60000\n"
     ]
    }
   ],
   "source": [
    "data = {\n",
    "    'Name': ['John', 'Alice', 'Bob'],\n",
    "    'Age': [25, 30, 22],\n",
    "    'City': ['New York', 'Los Angeles', 'Chicago'],\n",
    "    'salary': [70000, 80000, 60000]\n",
    "}\n",
    "df = pd.DataFrame(data)\n",
    "print(df)   "
   ]
  },
  {
   "cell_type": "code",
   "execution_count": 25,
   "id": "9e454572",
   "metadata": {},
   "outputs": [],
   "source": [
    "df = pd.read_csv('Suicide_data.csv')"
   ]
  },
  {
   "cell_type": "code",
   "execution_count": 23,
   "id": "8450d499",
   "metadata": {},
   "outputs": [
    {
     "name": "stdout",
     "output_type": "stream",
     "text": [
      "          country  year     sex          age  suicides_no  population  \\\n",
      "27815  Uzbekistan  2014  female  35-54 years          107     3620833   \n",
      "27816  Uzbekistan  2014  female    75+ years            9      348465   \n",
      "27817  Uzbekistan  2014    male   5-14 years           60     2762158   \n",
      "27818  Uzbekistan  2014  female   5-14 years           44     2631600   \n",
      "27819  Uzbekistan  2014  female  55-74 years           21     1438935   \n",
      "\n",
      "       suicides/100k pop    country-year  HDI for year  gdp_for_year ($)   \\\n",
      "27815               2.96  Uzbekistan2014         0.675     63,067,077,179   \n",
      "27816               2.58  Uzbekistan2014         0.675     63,067,077,179   \n",
      "27817               2.17  Uzbekistan2014         0.675     63,067,077,179   \n",
      "27818               1.67  Uzbekistan2014         0.675     63,067,077,179   \n",
      "27819               1.46  Uzbekistan2014         0.675     63,067,077,179   \n",
      "\n",
      "       gdp_per_capita ($)    generation  \n",
      "27815                2309  Generation X  \n",
      "27816                2309        Silent  \n",
      "27817                2309  Generation Z  \n",
      "27818                2309  Generation Z  \n",
      "27819                2309       Boomers  \n"
     ]
    }
   ],
   "source": [
    "print(df.tail())"
   ]
  }
 ],
 "metadata": {
  "kernelspec": {
   "display_name": "Python 3",
   "language": "python",
   "name": "python3"
  },
  "language_info": {
   "codemirror_mode": {
    "name": "ipython",
    "version": 3
   },
   "file_extension": ".py",
   "mimetype": "text/x-python",
   "name": "python",
   "nbconvert_exporter": "python",
   "pygments_lexer": "ipython3",
   "version": "3.13.7"
  }
 },
 "nbformat": 4,
 "nbformat_minor": 5
}
