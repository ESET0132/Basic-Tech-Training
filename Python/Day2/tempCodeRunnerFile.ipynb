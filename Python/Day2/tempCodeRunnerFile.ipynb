student_info("John", 25)
student_info("Alice", 20)